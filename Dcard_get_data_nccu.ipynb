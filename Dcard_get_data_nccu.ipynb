{
  "nbformat": 4,
  "nbformat_minor": 5,
  "metadata": {
    "kernelspec": {
      "display_name": "Python 3",
      "language": "python",
      "name": "python3"
    },
    "language_info": {
      "codemirror_mode": {
        "name": "ipython",
        "version": 3
      },
      "file_extension": ".py",
      "mimetype": "text/x-python",
      "name": "python",
      "nbconvert_exporter": "python",
      "pygments_lexer": "ipython3",
      "version": "3.9.2"
    },
    "colab": {
      "name": "Dcard_get_data_nccu.ipynb",
      "provenance": []
    }
  },
  "cells": [
    {
      "cell_type": "code",
      "metadata": {
        "id": "professional-means"
      },
      "source": [
        "import pandas as pd\n",
        "import requests\n",
        "import json\n",
        "import time \n",
        "import random"
      ],
      "id": "professional-means",
      "execution_count": null,
      "outputs": []
    },
    {
      "cell_type": "code",
      "metadata": {
        "colab": {
          "base_uri": "https://localhost:8080/"
        },
        "id": "l5fMncQXw7AZ",
        "outputId": "b6b246cf-c1f0-4998-e73b-5426f2b49127"
      },
      "source": [
        "from google.colab import drive\n",
        "drive.mount('/content/drive')"
      ],
      "id": "l5fMncQXw7AZ",
      "execution_count": null,
      "outputs": [
        {
          "output_type": "stream",
          "text": [
            "Mounted at /content/drive\n"
          ],
          "name": "stdout"
        }
      ]
    },
    {
      "cell_type": "code",
      "metadata": {
        "id": "occasional-expense"
      },
      "source": [
        "#Get x number of articles from a forum and return title and alias\n",
        "\n",
        "def get_x_articles(alias, x):\n",
        "    count = 0\n",
        "    api = 'https://www.dcard.tw/service/api/v2/forums/' + alias + '/posts?popular=false&limit=100'\n",
        "    before = ''\n",
        "    all_data = pd.DataFrame()\n",
        "    for i in range(x):\n",
        "        time.sleep(random.randint(2,6))\n",
        "        r = requests.get(api + before)\n",
        "        response = r.text \n",
        "        data = json.loads(response)\n",
        "        df = pd.DataFrame(data)\n",
        "        all_data = pd.concat([all_data, df], ignore_index=True)\n",
        "        count+=100\n",
        "        if count < x:\n",
        "            try:\n",
        "              before = '&before=' + str(df.iloc[-1]['id'])\n",
        "            except:\n",
        "              break\n",
        "        else:\n",
        "            break\n",
        "    all_data = all_data[['title','forumName']]\n",
        "    return all_data"
      ],
      "id": "occasional-expense",
      "execution_count": null,
      "outputs": []
    },
    {
      "cell_type": "code",
      "metadata": {
        "id": "touched-tenant"
      },
      "source": [
        "nccu = get_x_articles('nccu', 11000)"
      ],
      "id": "touched-tenant",
      "execution_count": null,
      "outputs": []
    },
    {
      "cell_type": "code",
      "metadata": {
        "id": "liable-living"
      },
      "source": [
        "nccu.to_csv('/content/drive/MyDrive/Dcard/'+'nccu_title'+'.xlsx')"
      ],
      "id": "liable-living",
      "execution_count": null,
      "outputs": []
    },
    {
      "cell_type": "code",
      "metadata": {
        "colab": {
          "base_uri": "https://localhost:8080/",
          "height": 419
        },
        "id": "QRe1rBxHDdu9",
        "outputId": "9f9ad1ba-5e89-4e2b-f4fa-ebbe29a176eb"
      },
      "source": [
        "nccu"
      ],
      "id": "QRe1rBxHDdu9",
      "execution_count": null,
      "outputs": [
        {
          "output_type": "execute_result",
          "data": {
            "text/html": [
              "<div>\n",
              "<style scoped>\n",
              "    .dataframe tbody tr th:only-of-type {\n",
              "        vertical-align: middle;\n",
              "    }\n",
              "\n",
              "    .dataframe tbody tr th {\n",
              "        vertical-align: top;\n",
              "    }\n",
              "\n",
              "    .dataframe thead th {\n",
              "        text-align: right;\n",
              "    }\n",
              "</style>\n",
              "<table border=\"1\" class=\"dataframe\">\n",
              "  <thead>\n",
              "    <tr style=\"text-align: right;\">\n",
              "      <th></th>\n",
              "      <th>title</th>\n",
              "      <th>forumName</th>\n",
              "    </tr>\n",
              "  </thead>\n",
              "  <tbody>\n",
              "    <tr>\n",
              "      <th>0</th>\n",
              "      <td>有人認識她嗎</td>\n",
              "      <td>政治大學</td>\n",
              "    </tr>\n",
              "    <tr>\n",
              "      <th>1</th>\n",
              "      <td>政大小圈圈是不是更可怕啊</td>\n",
              "      <td>政治大學</td>\n",
              "    </tr>\n",
              "    <tr>\n",
              "      <th>2</th>\n",
              "      <td>Leaf 一人之力搞臭黑音🍃</td>\n",
              "      <td>政治大學</td>\n",
              "    </tr>\n",
              "    <tr>\n",
              "      <th>3</th>\n",
              "      <td>行政院宣布：7月27日起調降為二級警戒</td>\n",
              "      <td>政治大學</td>\n",
              "    </tr>\n",
              "    <tr>\n",
              "      <th>4</th>\n",
              "      <td>大家覺得ㄋ</td>\n",
              "      <td>政治大學</td>\n",
              "    </tr>\n",
              "    <tr>\n",
              "      <th>...</th>\n",
              "      <td>...</td>\n",
              "      <td>...</td>\n",
              "    </tr>\n",
              "    <tr>\n",
              "      <th>10995</th>\n",
              "      <td>風雩樓的撞球台</td>\n",
              "      <td>政治大學</td>\n",
              "    </tr>\n",
              "    <tr>\n",
              "      <th>10996</th>\n",
              "      <td>政大是得罪媒體還是不會經營媒體關係？</td>\n",
              "      <td>政治大學</td>\n",
              "    </tr>\n",
              "    <tr>\n",
              "      <th>10997</th>\n",
              "      <td>政大生確診</td>\n",
              "      <td>政治大學</td>\n",
              "    </tr>\n",
              "    <tr>\n",
              "      <th>10998</th>\n",
              "      <td>子威帥帥</td>\n",
              "      <td>政治大學</td>\n",
              "    </tr>\n",
              "    <tr>\n",
              "      <th>10999</th>\n",
              "      <td>宿舍出現外來種</td>\n",
              "      <td>政治大學</td>\n",
              "    </tr>\n",
              "  </tbody>\n",
              "</table>\n",
              "<p>11000 rows × 2 columns</p>\n",
              "</div>"
            ],
            "text/plain": [
              "                     title forumName\n",
              "0                   有人認識她嗎      政治大學\n",
              "1             政大小圈圈是不是更可怕啊      政治大學\n",
              "2           Leaf 一人之力搞臭黑音🍃      政治大學\n",
              "3      行政院宣布：7月27日起調降為二級警戒      政治大學\n",
              "4                    大家覺得ㄋ      政治大學\n",
              "...                    ...       ...\n",
              "10995              風雩樓的撞球台      政治大學\n",
              "10996   政大是得罪媒體還是不會經營媒體關係？      政治大學\n",
              "10997                政大生確診      政治大學\n",
              "10998                 子威帥帥      政治大學\n",
              "10999              宿舍出現外來種      政治大學\n",
              "\n",
              "[11000 rows x 2 columns]"
            ]
          },
          "metadata": {
            "tags": []
          },
          "execution_count": 8
        }
      ]
    },
    {
      "cell_type": "markdown",
      "metadata": {
        "id": "jaEbdEPpDOnC"
      },
      "source": [
        "政大平均每天po文：30則\n",
        "近三年的po文：11000"
      ],
      "id": "jaEbdEPpDOnC"
    }
  ]
}